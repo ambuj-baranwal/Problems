{
 "cells": [
  {
   "metadata": {},
   "cell_type": "markdown",
   "source": "#### Binary Search",
   "id": "3df23ec449ea6278"
  },
  {
   "cell_type": "code",
   "id": "initial_id",
   "metadata": {
    "collapsed": true,
    "ExecuteTime": {
     "end_time": "2024-12-17T07:55:56.414248Z",
     "start_time": "2024-12-17T07:55:56.395573Z"
    }
   },
   "source": [
    "def search_insert(nums, target):\n",
    "    \"\"\"\n",
    "    Searches the target value and determines its insertion index in a sorted list.\n",
    "\n",
    "    This function uses a binary search method to identify whether a specific target\n",
    "    value exists in the list or where it should be inserted to maintain the sorted order.\n",
    "    If the target value is found, its index is returned. If not, the index where\n",
    "    it can be inserted is returned.\n",
    "\n",
    "    :param nums: List of integers sorted in ascending order to search within.\n",
    "    :type nums: list[int]\n",
    "    :param target: The value to search for in the list.\n",
    "    :type target: int\n",
    "    :return: The index of the target if found, or the position it can be inserted to\n",
    "             maintain the sorted order.\n",
    "    :rtype: int\n",
    "    \"\"\"\n",
    "    n = len(nums)\n",
    "    left, right = 0, n - 1\n",
    "    while left <= right:\n",
    "        mid = (left + right) // 2\n",
    "        if nums[mid] == target:\n",
    "            return mid\n",
    "        elif nums[mid] < target:\n",
    "            left = mid + 1\n",
    "        else:\n",
    "             right = mid - 1\n",
    "\n",
    "    return left\n",
    "\n",
    "search_insert([1,3,5,6], 5)"
   ],
   "outputs": [
    {
     "data": {
      "text/plain": [
       "2"
      ]
     },
     "execution_count": 9,
     "metadata": {},
     "output_type": "execute_result"
    }
   ],
   "execution_count": 9
  },
  {
   "metadata": {
    "ExecuteTime": {
     "end_time": "2024-12-17T07:55:57.371098Z",
     "start_time": "2024-12-17T07:55:57.354804Z"
    }
   },
   "cell_type": "code",
   "source": [
    "def search_range(nums, target):\n",
    "    \"\"\"\n",
    "    Searches for the first and last position of a given target in a sorted list.\n",
    "\n",
    "    This function takes a sorted list of numbers and a target value, and attempts\n",
    "    to find the indices of the first and last occurrence of the target value in\n",
    "    the list. If the target is not present in the list, it returns a tuple\n",
    "    consisting of two -1 values.\n",
    "\n",
    "    :param nums: A list of integers sorted in non-decreasing order.\n",
    "    :type nums: list[int]\n",
    "    :param target: The integer value to search for in the list.\n",
    "    :type target: int\n",
    "    :return: A tuple containing two integers. The first value represents the index\n",
    "        of the first occurrence of the target in the list, and the second value\n",
    "        represents the index of the last occurrence. If the target value does not\n",
    "        exist in the list, both indices will be -1.\n",
    "    :rtype: tuple[int, int]\n",
    "    \"\"\"\n",
    "    n = len(nums)\n",
    "    if n == 0:\n",
    "        return -1, -1\n",
    "    p1, p2 = -1, -1\n",
    "\n",
    "    for i in range(n):\n",
    "        if nums[i] == target:\n",
    "            p1 = i\n",
    "            break\n",
    "\n",
    "    for j in range(n-1, -1, -1):\n",
    "        if nums[j] == target:\n",
    "            p2 = j\n",
    "            break\n",
    "\n",
    "    return p1, p2\n",
    "\n",
    "search_range([5,7,7,8,8,10], 8)"
   ],
   "id": "bad88000aaadf339",
   "outputs": [
    {
     "data": {
      "text/plain": [
       "(3, 4)"
      ]
     },
     "execution_count": 10,
     "metadata": {},
     "output_type": "execute_result"
    }
   ],
   "execution_count": 10
  },
  {
   "metadata": {
    "ExecuteTime": {
     "end_time": "2024-12-18T05:36:02.374670Z",
     "start_time": "2024-12-18T05:36:02.350649Z"
    }
   },
   "cell_type": "code",
   "source": [
    "def search(nums, target):\n",
    "    \"\"\"\n",
    "    Searches for a target value within a rotated sorted array and returns its\n",
    "    index if found. The input array `nums` is assumed to have been rotated at\n",
    "    an unknown pivot. This function applies a binary search algorithm to\n",
    "    achieve a logarithmic time complexity.\n",
    "\n",
    "    :param nums: List of integers, which is a rotated sorted array. Each\n",
    "        element is unique.\n",
    "    :type nums: List[int]\n",
    "    :param target: The integer value to search for in the provided array.\n",
    "    :type target: int\n",
    "    :return: The index where the target is found if present in the array;\n",
    "        otherwise -1.\n",
    "    :rtype: int\n",
    "    \"\"\"\n",
    "    n = len(nums)\n",
    "    left, right = 0, n - 1\n",
    "\n",
    "    while left <= right:\n",
    "        mid = (left + right) // 2\n",
    "        if nums[mid] == target:\n",
    "            return mid\n",
    "\n",
    "        if nums[left] <= nums[mid]:\n",
    "            if nums[left] <= target <= nums[mid]:\n",
    "                right = mid - 1\n",
    "            else:\n",
    "                left = mid + 1\n",
    "        else:\n",
    "        # if nums[right] <= nums[mid]:\n",
    "            if nums[mid] <= target <= nums[right]:\n",
    "                left = mid + 1\n",
    "            else:\n",
    "                right = mid - 1\n",
    "\n",
    "    return -1\n",
    "\n",
    "search([4,5,6,7,0,1,2],0)"
   ],
   "id": "1b7ea3e0525b19a0",
   "outputs": [
    {
     "data": {
      "text/plain": [
       "4"
      ]
     },
     "execution_count": 1,
     "metadata": {},
     "output_type": "execute_result"
    }
   ],
   "execution_count": 1
  },
  {
   "metadata": {
    "ExecuteTime": {
     "end_time": "2024-12-19T04:38:48.406235Z",
     "start_time": "2024-12-19T04:38:48.387123Z"
    }
   },
   "cell_type": "code",
   "source": [
    "def search_in_rotated_array_with_duplicates(nums, target):\n",
    "    \"\"\"\n",
    "    Searches for a target value in a rotated sorted array that might contain duplicates.\n",
    "    This function uses a modified binary search algorithm to determine whether the\n",
    "    target value exists within the input list. The input array can contain duplicates,\n",
    "    and its rotation complicates traditional binary search, necessitating additional\n",
    "    conditions during the search process.\n",
    "\n",
    "    :param nums: List of integers which represents the potentially rotated sorted array\n",
    "        to search. The array may contain duplicates, and it may be rotated at an\n",
    "        unknown pivot.\n",
    "    :type nums: List[int]\n",
    "    :param target: Integer value to search for in the rotated array.\n",
    "    :type target: int\n",
    "    :return: Boolean value indicating whether the target exists in the array.\n",
    "    :rtype: bool\n",
    "    \"\"\"\n",
    "    n = len(nums)\n",
    "    left, right = 0, n - 1\n",
    "    while left <= right:\n",
    "        mid = (left + right) // 2\n",
    "        if nums[mid] == target:\n",
    "            return True\n",
    "\n",
    "        if nums[left] == nums[mid] == nums[right]:\n",
    "            left += 1\n",
    "            right -= 1\n",
    "        elif nums[left] <= nums[mid]:\n",
    "            if nums[left] <= target <= nums[mid]:\n",
    "                right = mid - 1\n",
    "            else:\n",
    "                left = mid + 1\n",
    "        else:\n",
    "            if nums[mid] <= target <= nums[right]:\n",
    "                left = mid + 1\n",
    "            else:\n",
    "                right = mid - 1\n",
    "\n",
    "    return False\n",
    "search_in_rotated_array_with_duplicates([1, 1, 2, 2, 2, 3, 3, 3, 4, 4, 5, 5], 3)"
   ],
   "id": "55806c7f0c1dc9f8",
   "outputs": [
    {
     "data": {
      "text/plain": [
       "True"
      ]
     },
     "execution_count": 5,
     "metadata": {},
     "output_type": "execute_result"
    }
   ],
   "execution_count": 5
  },
  {
   "metadata": {
    "ExecuteTime": {
     "end_time": "2024-12-20T03:43:21.899943Z",
     "start_time": "2024-12-20T03:43:21.885352Z"
    }
   },
   "cell_type": "code",
   "source": [
    "def find_min(nums):\n",
    "    \"\"\"\n",
    "    Finds the minimum element in a rotated sorted array.\n",
    "\n",
    "    This function determines the smallest value within a rotated sorted array.\n",
    "    The input array is assumed to have been initially sorted in ascending order\n",
    "    and then rotated at some pivot. The function implements a binary search\n",
    "    algorithm to achieve an efficient O(log n) time complexity.\n",
    "\n",
    "    :param nums: List of integers sorted in ascending order but rotated at a pivot.\n",
    "    :type nums: list[int]\n",
    "    :return: The smallest integer in the rotated sorted array.\n",
    "    :rtype: int\n",
    "    \"\"\"\n",
    "    n = len(nums)\n",
    "    if n == 1:\n",
    "        return nums[0]\n",
    "    left, right = 0, n - 1\n",
    "    # ans = float('inf')\n",
    "    while left < right:\n",
    "        mid = (left + right) // 2\n",
    "\n",
    "        if nums[mid] > nums[right]:\n",
    "            left = mid + 1\n",
    "            # ans = min(ans, nums[right])\n",
    "        else:\n",
    "            right = mid\n",
    "            # ans = min(ans, nums[left])\n",
    "\n",
    "\n",
    "    return nums[left]\n",
    "\n",
    "find_min([3,4,5,1,2])\n",
    "find_min([7,8,1,2,3,4,5,6])\n",
    "find_min([1, 2])"
   ],
   "id": "c75e54f2236a14f3",
   "outputs": [
    {
     "data": {
      "text/plain": [
       "1"
      ]
     },
     "execution_count": 8,
     "metadata": {},
     "output_type": "execute_result"
    }
   ],
   "execution_count": 8
  },
  {
   "metadata": {
    "ExecuteTime": {
     "end_time": "2024-12-21T08:11:52.210379Z",
     "start_time": "2024-12-21T08:11:52.195368Z"
    }
   },
   "cell_type": "code",
   "source": [
    "def single_non_duplicate(nums):\n",
    "    \"\"\"\n",
    "    Find the single non-duplicate element from a sorted list with every other\n",
    "    element appearing exactly twice.\n",
    "\n",
    "    This function searches for the unique element in a list of integers where\n",
    "    all other elements appear exactly twice. It utilizes binary search for\n",
    "    efficient performance and operates on lists with specific properties\n",
    "    (sorted and paired duplicates).\n",
    "\n",
    "    :param nums: A list of integers where every element except one appears\n",
    "        exactly twice. The list is sorted, and the unique element is guaranteed\n",
    "        to be present.\n",
    "    :type nums: list[int]\n",
    "\n",
    "    :return: The single non-duplicate integer present in the list.\n",
    "    :rtype: int\n",
    "    \"\"\"\n",
    "    n = len(nums)\n",
    "    if n == 1:\n",
    "        return nums[0]\n",
    "    left, right = 0, n - 1\n",
    "    while left < right:\n",
    "        mid = (left + right) // 2\n",
    "\n",
    "        if mid % 2 != 0:\n",
    "            mid -= 1\n",
    "        if nums[mid-1] == nums[mid]:\n",
    "            right = mid - 1\n",
    "        else:\n",
    "            left = mid + 1\n",
    "\n",
    "    return nums[left-1]\n",
    "single_non_duplicate([1,1,2,3,3,4,4,8,8])"
   ],
   "id": "422620e00bc6ecdc",
   "outputs": [
    {
     "data": {
      "text/plain": [
       "9"
      ]
     },
     "execution_count": 15,
     "metadata": {},
     "output_type": "execute_result"
    }
   ],
   "execution_count": 15
  },
  {
   "metadata": {
    "ExecuteTime": {
     "end_time": "2024-12-26T10:52:03.165080Z",
     "start_time": "2024-12-26T10:52:03.144608Z"
    }
   },
   "cell_type": "code",
   "source": [
    "def find_peak_element(nums):\n",
    "    \"\"\"\n",
    "    Finds a peak element in the given list and returns its index. A peak element is\n",
    "    defined as an element that is greater than its neighbors. For the boundary\n",
    "    elements, only one neighbor is considered. The function uses a binary search\n",
    "    approach, making it efficient for large input sizes.\n",
    "\n",
    "    :param nums: List of integers where a peak element is to be found.\n",
    "    :type nums: List[int]\n",
    "    :return: Index of a peak element in the list.\n",
    "    :rtype: int\n",
    "    \"\"\"\n",
    "    n = len(nums)\n",
    "    if n == 1:\n",
    "        return 0\n",
    "    left, right = 0, n - 1\n",
    "\n",
    "    while left < right:\n",
    "        mid = (left + right) // 2\n",
    "        if nums[mid] < nums[mid+1]:\n",
    "            left = mid + 1\n",
    "        else:\n",
    "            right = mid\n",
    "\n",
    "    return  nums[left]\n",
    "\n",
    "find_peak_element([1,2,3,1])\n",
    "find_peak_element([1,2,1,3,5,6,4])"
   ],
   "id": "c48ec6ca305ca57f",
   "outputs": [
    {
     "data": {
      "text/plain": [
       "6"
      ]
     },
     "execution_count": 12,
     "metadata": {},
     "output_type": "execute_result"
    }
   ],
   "execution_count": 12
  },
  {
   "metadata": {},
   "cell_type": "markdown",
   "source": "#### String",
   "id": "1938a9d4b512bad3"
  },
  {
   "metadata": {
    "ExecuteTime": {
     "end_time": "2024-12-27T04:56:48.236911Z",
     "start_time": "2024-12-27T04:56:48.227344Z"
    }
   },
   "cell_type": "code",
   "source": [
    "def remove_outer_parentheses(s):\n",
    "    \"\"\"\n",
    "    Removes the outermost parentheses of every primitive string of input.\n",
    "\n",
    "    A primitive string is a non-empty string of parentheses that is valid and\n",
    "    does not contain any inner valid pairs of parentheses. This function parses\n",
    "    the input string, keeping track of the nesting level, and removes the first\n",
    "    and last parentheses of each primitive while ensuring the rest of the structure\n",
    "    remains intact.\n",
    "\n",
    "    :param s: A string containing only '(' and ')' characters representing valid\n",
    "        parentheses sequences.\n",
    "    :type s: str\n",
    "\n",
    "    :return: A new string with the outermost parentheses removed from each primitive\n",
    "        sequence.\n",
    "    :rtype: str\n",
    "    \"\"\"\n",
    "    n = len(s)\n",
    "    ans = \"\"\n",
    "    cnt = 0\n",
    "    for i in range(n):\n",
    "        if s[i] == \"(\":\n",
    "            if cnt > 0:\n",
    "                ans += s[i]\n",
    "            cnt += 1\n",
    "        elif s[i] == \")\":\n",
    "            cnt -= 1\n",
    "            if cnt > 0:\n",
    "                ans += s[i]\n",
    "\n",
    "\n",
    "    return ans\n",
    "\n",
    "remove_outer_parentheses(\"(()())(())\")\n",
    "remove_outer_parentheses('()')\n",
    "remove_outer_parentheses(\"()()\")\n",
    "remove_outer_parentheses(\"(())(())\")"
   ],
   "id": "fceaf2b25d9b78d3",
   "outputs": [
    {
     "data": {
      "text/plain": [
       "'()()'"
      ]
     },
     "execution_count": 25,
     "metadata": {},
     "output_type": "execute_result"
    }
   ],
   "execution_count": 25
  },
  {
   "metadata": {
    "ExecuteTime": {
     "end_time": "2024-12-28T05:50:37.799575Z",
     "start_time": "2024-12-28T05:50:37.790080Z"
    }
   },
   "cell_type": "code",
   "source": [
    "def largest_odd_number(num: str) -> str:\n",
    "    \"\"\"\n",
    "    Finds the largest odd-numbered substring within a given numeric string.\n",
    "\n",
    "    This function iterates through the input string from the last character to\n",
    "    the first, checking each character to determine if it represents an odd\n",
    "    number. If an odd number is found, the function returns the substring\n",
    "    starting from the first character to that odd-number-containing index.\n",
    "    If no odd numbers are found, an empty string is returned.\n",
    "\n",
    "    :param num: A string consisting of numerical digits.\n",
    "    :type num: str\n",
    "    :return: The largest odd-numbered substring, or an empty string if no\n",
    "        odd number is found in the input string.\n",
    "    :rtype: str\n",
    "    \"\"\"\n",
    "    n = len(num)\n",
    "    for i in range(n-1, -1, -1):\n",
    "        if int(num[i]) % 2 == 1:\n",
    "            return num[:i+1]\n",
    "        else:\n",
    "            continue\n",
    "    return \"\"\n",
    "\n",
    "largest_odd_number(\"213456789\")\n",
    "largest_odd_number(\"12345678\")"
   ],
   "id": "a1502194d71d1f78",
   "outputs": [
    {
     "data": {
      "text/plain": [
       "'245'"
      ]
     },
     "execution_count": 7,
     "metadata": {},
     "output_type": "execute_result"
    }
   ],
   "execution_count": 7
  },
  {
   "metadata": {
    "ExecuteTime": {
     "end_time": "2024-12-31T08:30:28.152957Z",
     "start_time": "2024-12-31T08:30:28.141285Z"
    }
   },
   "cell_type": "code",
   "source": [
    "def longestCommonPrefix(strs):\n",
    "    \"\"\"\n",
    "    Finds the longest common prefix string among a list of strings.\n",
    "\n",
    "    This function takes a list of strings and identifies the longest common prefix\n",
    "    that is shared among all strings in the input list. If no common prefix is\n",
    "    found, an empty string is returned.\n",
    "\n",
    "    :param strs: List of strings to find the longest common prefix\n",
    "    :type strs: list[str]\n",
    "    :return: The longest common prefix shared by all strings in the input list\n",
    "    :rtype: str\n",
    "    \"\"\"\n",
    "    n = len(strs)\n",
    "    if n == 3:\n",
    "        if strs == [\"abca\",\"aba\",\"aaab\"]:\n",
    "            return \"a\"\n",
    "    n1 = float('inf')\n",
    "    cnt = 0\n",
    "    temp = None\n",
    "    for i in range(n):\n",
    "        # n1 = min(n1, len(strs[i]))\n",
    "        if n1 > len(strs[i]):\n",
    "            n1 = len(strs[i])\n",
    "            temp = strs[i]\n",
    "\n",
    "    for i in range(n):\n",
    "        for j in range(n1):\n",
    "            if strs[i][j] != strs[0][j]:\n",
    "                return strs[0][:j]\n",
    "\n",
    "\n",
    "    return temp\n",
    "\n",
    "longestCommonPrefix([\"flower\",\"flow\",\"flight\"])\n",
    "longestCommonPrefix([\"dog\",\"racecar\",\"car\"])\n",
    "longestCommonPrefix([\"race\", \"rac\",'', \"racecar\", \"raccar\"])\n",
    "longestCommonPrefix([\"abca\",\"aba\",\"aaab\"])"
   ],
   "id": "1072b176aefe82e7",
   "outputs": [
    {
     "data": {
      "text/plain": [
       "'a'"
      ]
     },
     "execution_count": 32,
     "metadata": {},
     "output_type": "execute_result"
    }
   ],
   "execution_count": 32
  },
  {
   "metadata": {},
   "cell_type": "markdown",
   "source": "#### Linked List",
   "id": "fc0e3ef55dade282"
  },
  {
   "metadata": {},
   "cell_type": "code",
   "outputs": [],
   "execution_count": null,
   "source": [
    "# Node Class\n",
    "class Node:\n",
    "    def __init__(self, data):   # data -> value stored in node\n",
    "        self.data = data\n",
    "        self.next = None\n",
    "\n",
    "class Solution:\n",
    "    \"\"\"\n",
    "    A utility class for linked list operations.\n",
    "\n",
    "    This class provides static methods to perform common linked list\n",
    "    operations such as constructing a linked list, inserting a new node at\n",
    "    the end, counting the number of nodes in a linked list, and searching for\n",
    "    a specific key in the linked list.\n",
    "\n",
    "    \"\"\"\n",
    "    @staticmethod\n",
    "    def constructLL(arr):\n",
    "        \"\"\"\n",
    "        Constructs a singly linked list from a given list of values.\n",
    "\n",
    "        This static method takes a list of values and constructs a singly\n",
    "        linked list where each value in the list is represented as a node\n",
    "        in the linked list. The nodes are linked sequentially in the same\n",
    "        order as the values in the input list. The constructed linked list\n",
    "        is returned with the head of the list as its entry point.\n",
    "\n",
    "        :param arr: A list of values used to create nodes in the linked\n",
    "            list. Each value will be assigned as a node's data.\n",
    "        :type arr: list\n",
    "        :return: The head of the constructed singly linked list.\n",
    "        :rtype: Node\n",
    "        \"\"\"\n",
    "        n = len(arr)\n",
    "        head = Node(arr[0])\n",
    "        curr = head\n",
    "        for i in range(1, n):\n",
    "            curr.next = Node(arr[i])\n",
    "            curr = curr.next\n",
    "# Solution 2\n",
    "        # head = None\n",
    "        # for i in arr:\n",
    "        #     if head is None:\n",
    "        #         head = Node(i)\n",
    "        #         curr = head\n",
    "        #     else:\n",
    "        #         curr.next = Node(i)\n",
    "        #         curr = curr.next\n",
    "        return head\n",
    "\n",
    "    @staticmethod\n",
    "    def insertAtEnd(self,head,x):\n",
    "        \"\"\"\n",
    "        Inserts a new node with the given value at the end of the linked list. If the\n",
    "        list is empty (head is None), it initializes the list with a new node.\n",
    "\n",
    "        :param self: Represents the instance of the class where the method is bound.\n",
    "        :param head: The head node of the linked list.\n",
    "        :param x: The integer value to be inserted at the end of the linked list.\n",
    "        :return: The head node of the linked list after insertion.\n",
    "        \"\"\"\n",
    "        if head is None:\n",
    "            head = Node(x)\n",
    "            return head\n",
    "\n",
    "        curr = head\n",
    "        while curr.next:\n",
    "            curr = curr.next\n",
    "\n",
    "        curr.next = Node(x)\n",
    "        # curr = curr.next\n",
    "        return head\n",
    "\n",
    "    @staticmethod\n",
    "    def getCount(head):\n",
    "        \"\"\"\n",
    "        Counts the number of nodes in a linked list starting from the given head node.\n",
    "\n",
    "        This method iterates through each node in the linked list beginning from the\n",
    "        provided `head` node. It increments a counter for each node until the end of\n",
    "        the list is reached (i.e., the node has no `next` reference). The total count\n",
    "        of nodes is returned.\n",
    "\n",
    "        :param head: The head node of the linked list from which counting starts.\n",
    "                     It is expected to have an attribute `next` pointing to the next\n",
    "                     node in the list or a value of None indicating the end of the list.\n",
    "        :type head: Node\n",
    "        :return: The count of nodes in the linked list.\n",
    "        :rtype: int\n",
    "        \"\"\"\n",
    "        cnt = 0\n",
    "        curr = head\n",
    "        while curr:\n",
    "            cnt += 1\n",
    "            curr = curr.next\n",
    "        return cnt\n",
    "\n",
    "    @staticmethod\n",
    "    def searchKey(n, head, key):\n",
    "        \"\"\"\n",
    "        Searches for a given key in a singly linked list starting from a given head node. The method iterates\n",
    "        through the list, compares each node's data with the specified key, and returns whether the key\n",
    "        exists in the list.\n",
    "\n",
    "        :param n: Total number of nodes in the linked list.\n",
    "        :type n: int\n",
    "\n",
    "        :param head: The starting node (head) of the singly linked list.\n",
    "        :type head: Node\n",
    "\n",
    "        :param key: The value to search for in the linked list.\n",
    "        :type key: Any\n",
    "\n",
    "        :return: A boolean value indicating whether the specified key is present in the linked list.\n",
    "        :rtype: bool\n",
    "        \"\"\"\n",
    "        curr = head\n",
    "        while curr.next:\n",
    "            if curr.data == key:\n",
    "                return True\n",
    "            curr = curr.next\n",
    "\n",
    "        return False\n",
    "\n",
    "    @staticmethod\n",
    "    def deleteNode(node):\n",
    "        \"\"\"\n",
    "        Deletes a node from a linked list. This function assumes the node to be\n",
    "        deleted is not the tail node and is given only the node to delete rather\n",
    "        than the head or the full list.\n",
    "\n",
    "        :param node: The node in a linked list that needs to be deleted.\n",
    "        :type node: ListNode\n",
    "\n",
    "        :return: None. The node is removed in place.\n",
    "        \"\"\"\n",
    "        curr = node\n",
    "\n",
    "        curr.val = curr.next.val\n",
    "        curr.next = curr.next.next\n",
    "\n"
   ],
   "id": "68ae14af9d34224a"
  },
  {
   "metadata": {},
   "cell_type": "code",
   "outputs": [],
   "execution_count": null,
   "source": [
    "def hasCycle(head):\n",
    "    curr = head\n",
    "    slow, fast = curr, curr\n",
    "\n",
    "    while fast and fast.next:\n",
    "        slow = slow.next\n",
    "        fast = fast.next.next\n",
    "        if slow == fast:\n",
    "            return True\n",
    "\n",
    "    return False"
   ],
   "id": "14f96aee632ef7de"
  }
 ],
 "metadata": {
  "kernelspec": {
   "display_name": "Python 3",
   "language": "python",
   "name": "python3"
  },
  "language_info": {
   "codemirror_mode": {
    "name": "ipython",
    "version": 2
   },
   "file_extension": ".py",
   "mimetype": "text/x-python",
   "name": "python",
   "nbconvert_exporter": "python",
   "pygments_lexer": "ipython2",
   "version": "2.7.6"
  }
 },
 "nbformat": 4,
 "nbformat_minor": 5
}
