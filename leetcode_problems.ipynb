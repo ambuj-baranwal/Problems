{
 "cells": [
  {
   "cell_type": "code",
   "id": "initial_id",
   "metadata": {
    "collapsed": true,
    "ExecuteTime": {
     "end_time": "2024-12-16T07:05:51.612955Z",
     "start_time": "2024-12-16T07:05:51.595409Z"
    }
   },
   "source": [
    "def search_insert(nums, target):\n",
    "    \"\"\"\n",
    "    Searches the target value and determines its insertion index in a sorted list.\n",
    "\n",
    "    This function uses a binary search method to identify whether a specific target\n",
    "    value exists in the list or where it should be inserted to maintain the sorted order.\n",
    "    If the target value is found, its index is returned. If not, the index where\n",
    "    it can be inserted is returned.\n",
    "\n",
    "    :param nums: List of integers sorted in ascending order to search within.\n",
    "    :type nums: list[int]\n",
    "    :param target: The value to search for in the list.\n",
    "    :type target: int\n",
    "    :return: The index of the target if found, or the position it can be inserted to\n",
    "             maintain the sorted order.\n",
    "    :rtype: int\n",
    "    \"\"\"\n",
    "    n = len(nums)\n",
    "    left, right = 0, n - 1\n",
    "    while left <= right:\n",
    "        mid = (left + right) // 2\n",
    "        if nums[mid] == target:\n",
    "            return mid\n",
    "        elif nums[mid] < target:\n",
    "            left = mid + 1\n",
    "        else:\n",
    "             right = mid - 1\n",
    "\n",
    "    return left\n",
    "\n",
    "search_insert([1,3,5,6], 5)"
   ],
   "outputs": [
    {
     "data": {
      "text/plain": [
       "2"
      ]
     },
     "execution_count": 2,
     "metadata": {},
     "output_type": "execute_result"
    }
   ],
   "execution_count": 2
  }
 ],
 "metadata": {
  "kernelspec": {
   "display_name": "Python 3",
   "language": "python",
   "name": "python3"
  },
  "language_info": {
   "codemirror_mode": {
    "name": "ipython",
    "version": 2
   },
   "file_extension": ".py",
   "mimetype": "text/x-python",
   "name": "python",
   "nbconvert_exporter": "python",
   "pygments_lexer": "ipython2",
   "version": "2.7.6"
  }
 },
 "nbformat": 4,
 "nbformat_minor": 5
}
