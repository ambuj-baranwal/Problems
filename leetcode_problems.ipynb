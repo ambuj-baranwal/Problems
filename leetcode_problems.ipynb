{
 "cells": [
  {
   "metadata": {},
   "cell_type": "markdown",
   "source": "#### Binary Search",
   "id": "3df23ec449ea6278"
  },
  {
   "cell_type": "code",
   "id": "initial_id",
   "metadata": {
    "collapsed": true,
    "ExecuteTime": {
     "end_time": "2024-12-17T07:55:56.414248Z",
     "start_time": "2024-12-17T07:55:56.395573Z"
    }
   },
   "source": [
    "def search_insert(nums, target):\n",
    "    \"\"\"\n",
    "    Searches the target value and determines its insertion index in a sorted list.\n",
    "\n",
    "    This function uses a binary search method to identify whether a specific target\n",
    "    value exists in the list or where it should be inserted to maintain the sorted order.\n",
    "    If the target value is found, its index is returned. If not, the index where\n",
    "    it can be inserted is returned.\n",
    "\n",
    "    :param nums: List of integers sorted in ascending order to search within.\n",
    "    :type nums: list[int]\n",
    "    :param target: The value to search for in the list.\n",
    "    :type target: int\n",
    "    :return: The index of the target if found, or the position it can be inserted to\n",
    "             maintain the sorted order.\n",
    "    :rtype: int\n",
    "    \"\"\"\n",
    "    n = len(nums)\n",
    "    left, right = 0, n - 1\n",
    "    while left <= right:\n",
    "        mid = (left + right) // 2\n",
    "        if nums[mid] == target:\n",
    "            return mid\n",
    "        elif nums[mid] < target:\n",
    "            left = mid + 1\n",
    "        else:\n",
    "             right = mid - 1\n",
    "\n",
    "    return left\n",
    "\n",
    "search_insert([1,3,5,6], 5)"
   ],
   "outputs": [
    {
     "data": {
      "text/plain": [
       "2"
      ]
     },
     "execution_count": 9,
     "metadata": {},
     "output_type": "execute_result"
    }
   ],
   "execution_count": 9
  },
  {
   "metadata": {
    "ExecuteTime": {
     "end_time": "2024-12-17T07:55:57.371098Z",
     "start_time": "2024-12-17T07:55:57.354804Z"
    }
   },
   "cell_type": "code",
   "source": [
    "def search_range(nums, target):\n",
    "    \"\"\"\n",
    "    Searches for the first and last position of a given target in a sorted list.\n",
    "\n",
    "    This function takes a sorted list of numbers and a target value, and attempts\n",
    "    to find the indices of the first and last occurrence of the target value in\n",
    "    the list. If the target is not present in the list, it returns a tuple\n",
    "    consisting of two -1 values.\n",
    "\n",
    "    :param nums: A list of integers sorted in non-decreasing order.\n",
    "    :type nums: list[int]\n",
    "    :param target: The integer value to search for in the list.\n",
    "    :type target: int\n",
    "    :return: A tuple containing two integers. The first value represents the index\n",
    "        of the first occurrence of the target in the list, and the second value\n",
    "        represents the index of the last occurrence. If the target value does not\n",
    "        exist in the list, both indices will be -1.\n",
    "    :rtype: tuple[int, int]\n",
    "    \"\"\"\n",
    "    n = len(nums)\n",
    "    if n == 0:\n",
    "        return -1, -1\n",
    "    p1, p2 = -1, -1\n",
    "\n",
    "    for i in range(n):\n",
    "        if nums[i] == target:\n",
    "            p1 = i\n",
    "            break\n",
    "\n",
    "    for j in range(n-1, -1, -1):\n",
    "        if nums[j] == target:\n",
    "            p2 = j\n",
    "            break\n",
    "\n",
    "    return p1, p2\n",
    "\n",
    "search_range([5,7,7,8,8,10], 8)"
   ],
   "id": "bad88000aaadf339",
   "outputs": [
    {
     "data": {
      "text/plain": [
       "(3, 4)"
      ]
     },
     "execution_count": 10,
     "metadata": {},
     "output_type": "execute_result"
    }
   ],
   "execution_count": 10
  },
  {
   "metadata": {
    "ExecuteTime": {
     "end_time": "2024-12-18T05:36:02.374670Z",
     "start_time": "2024-12-18T05:36:02.350649Z"
    }
   },
   "cell_type": "code",
   "source": [
    "def search(nums, target):\n",
    "    \"\"\"\n",
    "    Searches for a target value within a rotated sorted array and returns its\n",
    "    index if found. The input array `nums` is assumed to have been rotated at\n",
    "    an unknown pivot. This function applies a binary search algorithm to\n",
    "    achieve a logarithmic time complexity.\n",
    "\n",
    "    :param nums: List of integers, which is a rotated sorted array. Each\n",
    "        element is unique.\n",
    "    :type nums: List[int]\n",
    "    :param target: The integer value to search for in the provided array.\n",
    "    :type target: int\n",
    "    :return: The index where the target is found if present in the array;\n",
    "        otherwise -1.\n",
    "    :rtype: int\n",
    "    \"\"\"\n",
    "    n = len(nums)\n",
    "    left, right = 0, n - 1\n",
    "\n",
    "    while left <= right:\n",
    "        mid = (left + right) // 2\n",
    "        if nums[mid] == target:\n",
    "            return mid\n",
    "\n",
    "        if nums[left] <= nums[mid]:\n",
    "            if nums[left] <= target <= nums[mid]:\n",
    "                right = mid - 1\n",
    "            else:\n",
    "                left = mid + 1\n",
    "        else:\n",
    "        # if nums[right] <= nums[mid]:\n",
    "            if nums[mid] <= target <= nums[right]:\n",
    "                left = mid + 1\n",
    "            else:\n",
    "                right = mid - 1\n",
    "\n",
    "    return -1\n",
    "\n",
    "search([4,5,6,7,0,1,2],0)"
   ],
   "id": "1b7ea3e0525b19a0",
   "outputs": [
    {
     "data": {
      "text/plain": [
       "4"
      ]
     },
     "execution_count": 1,
     "metadata": {},
     "output_type": "execute_result"
    }
   ],
   "execution_count": 1
  },
  {
   "metadata": {
    "ExecuteTime": {
     "end_time": "2024-12-19T04:38:48.406235Z",
     "start_time": "2024-12-19T04:38:48.387123Z"
    }
   },
   "cell_type": "code",
   "source": [
    "def search_in_rotated_array_with_duplicates(nums, target):\n",
    "    \"\"\"\n",
    "    Searches for a target value in a rotated sorted array that might contain duplicates.\n",
    "    This function uses a modified binary search algorithm to determine whether the\n",
    "    target value exists within the input list. The input array can contain duplicates,\n",
    "    and its rotation complicates traditional binary search, necessitating additional\n",
    "    conditions during the search process.\n",
    "\n",
    "    :param nums: List of integers which represents the potentially rotated sorted array\n",
    "        to search. The array may contain duplicates, and it may be rotated at an\n",
    "        unknown pivot.\n",
    "    :type nums: List[int]\n",
    "    :param target: Integer value to search for in the rotated array.\n",
    "    :type target: int\n",
    "    :return: Boolean value indicating whether the target exists in the array.\n",
    "    :rtype: bool\n",
    "    \"\"\"\n",
    "    n = len(nums)\n",
    "    left, right = 0, n - 1\n",
    "    while left <= right:\n",
    "        mid = (left + right) // 2\n",
    "        if nums[mid] == target:\n",
    "            return True\n",
    "\n",
    "        if nums[left] == nums[mid] == nums[right]:\n",
    "            left += 1\n",
    "            right -= 1\n",
    "        elif nums[left] <= nums[mid]:\n",
    "            if nums[left] <= target <= nums[mid]:\n",
    "                right = mid - 1\n",
    "            else:\n",
    "                left = mid + 1\n",
    "        else:\n",
    "            if nums[mid] <= target <= nums[right]:\n",
    "                left = mid + 1\n",
    "            else:\n",
    "                right = mid - 1\n",
    "\n",
    "    return False\n",
    "search_in_rotated_array_with_duplicates([1, 1, 2, 2, 2, 3, 3, 3, 4, 4, 5, 5], 3)"
   ],
   "id": "55806c7f0c1dc9f8",
   "outputs": [
    {
     "data": {
      "text/plain": [
       "True"
      ]
     },
     "execution_count": 5,
     "metadata": {},
     "output_type": "execute_result"
    }
   ],
   "execution_count": 5
  },
  {
   "metadata": {
    "ExecuteTime": {
     "end_time": "2024-12-20T03:43:21.899943Z",
     "start_time": "2024-12-20T03:43:21.885352Z"
    }
   },
   "cell_type": "code",
   "source": [
    "def find_min(nums):\n",
    "    \"\"\"\n",
    "    Finds the minimum element in a rotated sorted array.\n",
    "\n",
    "    This function determines the smallest value within a rotated sorted array.\n",
    "    The input array is assumed to have been initially sorted in ascending order\n",
    "    and then rotated at some pivot. The function implements a binary search\n",
    "    algorithm to achieve an efficient O(log n) time complexity.\n",
    "\n",
    "    :param nums: List of integers sorted in ascending order but rotated at a pivot.\n",
    "    :type nums: list[int]\n",
    "    :return: The smallest integer in the rotated sorted array.\n",
    "    :rtype: int\n",
    "    \"\"\"\n",
    "    n = len(nums)\n",
    "    if n == 1:\n",
    "        return nums[0]\n",
    "    left, right = 0, n - 1\n",
    "    # ans = float('inf')\n",
    "    while left < right:\n",
    "        mid = (left + right) // 2\n",
    "\n",
    "        if nums[mid] > nums[right]:\n",
    "            left = mid + 1\n",
    "            # ans = min(ans, nums[right])\n",
    "        else:\n",
    "            right = mid\n",
    "            # ans = min(ans, nums[left])\n",
    "\n",
    "\n",
    "    return nums[left]\n",
    "\n",
    "find_min([3,4,5,1,2])\n",
    "find_min([7,8,1,2,3,4,5,6])\n",
    "find_min([1, 2])"
   ],
   "id": "c75e54f2236a14f3",
   "outputs": [
    {
     "data": {
      "text/plain": [
       "1"
      ]
     },
     "execution_count": 8,
     "metadata": {},
     "output_type": "execute_result"
    }
   ],
   "execution_count": 8
  }
 ],
 "metadata": {
  "kernelspec": {
   "display_name": "Python 3",
   "language": "python",
   "name": "python3"
  },
  "language_info": {
   "codemirror_mode": {
    "name": "ipython",
    "version": 2
   },
   "file_extension": ".py",
   "mimetype": "text/x-python",
   "name": "python",
   "nbconvert_exporter": "python",
   "pygments_lexer": "ipython2",
   "version": "2.7.6"
  }
 },
 "nbformat": 4,
 "nbformat_minor": 5
}
